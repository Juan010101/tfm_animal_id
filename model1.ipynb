{
 "cells": [
  {
   "cell_type": "code",
   "execution_count": 1,
   "id": "8cac62e4-cc32-4c84-8a1d-fd68506731d5",
   "metadata": {},
   "outputs": [
    {
     "name": "stderr",
     "output_type": "stream",
     "text": [
      "C:\\Users\\Juanc\\AppData\\Local\\Programs\\Python\\Python312\\Lib\\site-packages\\tqdm\\auto.py:21: TqdmWarning: IProgress not found. Please update jupyter and ipywidgets. See https://ipywidgets.readthedocs.io/en/stable/user_install.html\n",
      "  from .autonotebook import tqdm as notebook_tqdm\n"
     ]
    }
   ],
   "source": [
    "from wildlife_datasets import datasets, splits\n",
    "import torchvision.transforms as T\n",
    "import wildlife_tools.data.__init__ as tools\n",
    "import timm\n",
    "from wildlife_tools.features import DeepFeatures\n",
    "from sklearn.metrics import adjusted_rand_score\n",
    "from active_semi_clustering.semi_supervised.pairwise_constraints import PCKMeans, COPKMeans, MKMeans, MPCKMeans, MPCKMeans, RCAKMeans\n",
    "from active_semi_clustering.semi_supervised.labeled_data import KMeans\n",
    "from active_semi_clustering.active.pairwise_constraints import ExampleOracle, ExploreConsolidate, MinMax\n",
    "from sklearn import metrics"
   ]
  },
  {
   "cell_type": "code",
   "execution_count": 2,
   "id": "c5d4d36f-9885-482c-b558-94c18a416d2e",
   "metadata": {},
   "outputs": [
    {
     "name": "stdout",
     "output_type": "stream",
     "text": [
      "DATASET CowDataset: DOWNLOADING STARTED.\n",
      "You are trying to download an already downloaded dataset.\n",
      "        This message may have happened to due interrupted download or extract.\n",
      "        To force the download use the `force=True` keyword such as\n",
      "        get_data(..., force=True) or download(..., force=True).\n",
      "        \n"
     ]
    }
   ],
   "source": [
    "# Cargamos el dataset de tortugas\n",
    "dataset_path = 'data/CowDataset'\n",
    "datasets.CowDataset.get_data(dataset_path)\n",
    "metadata = datasets.CowDataset(dataset_path)\n",
    "data_df = metadata.df"
   ]
  },
  {
   "cell_type": "code",
   "execution_count": 3,
   "id": "130d47a1-99cf-4659-a2c8-bf770bc95244",
   "metadata": {},
   "outputs": [],
   "source": [
    "transform = T.Compose([T.Resize(size=(384, 384)),\n",
    "                              T.ToTensor(), \n",
    "                              T.Normalize([0.5, 0.5, 0.5], [0.5, 0.5, 0.5])])\n",
    "dataset = tools.WildlifeDataset(metadata=data_df, root=\"./data/CowDataset\", transform=transform)"
   ]
  },
  {
   "cell_type": "code",
   "execution_count": 4,
   "id": "731f7b8b-3ec8-4a68-9828-2f92f6767f13",
   "metadata": {},
   "outputs": [
    {
     "name": "stderr",
     "output_type": "stream",
     "text": [
      "100%|██████████████████████████████████████████████████████████████| 12/12 [42:58<00:00, 214.88s/it]\n"
     ]
    }
   ],
   "source": [
    "backbone = timm.create_model('hf-hub:BVRA/MegaDescriptor-L-384', pretrained=True)\n",
    "extractor = DeepFeatures(backbone)\n",
    "outputFeatures = extractor(dataset)"
   ]
  },
  {
   "cell_type": "code",
   "execution_count": 5,
   "id": "214a86e8-74c7-4088-befa-e951ad164386",
   "metadata": {},
   "outputs": [],
   "source": [
    "outputClasses = data_df['identity'].to_numpy()"
   ]
  },
  {
   "cell_type": "code",
   "execution_count": 6,
   "id": "f4ac62d3-5840-4bbc-81df-277caaad72ff",
   "metadata": {},
   "outputs": [
    {
     "data": {
      "text/plain": [
       "0.4182548587999259"
      ]
     },
     "execution_count": 6,
     "metadata": {},
     "output_type": "execute_result"
    }
   ],
   "source": [
    "# Este es con la S 224\n",
    "clusterer = PCKMeans(n_clusters=13,max_iter=100, w=0)\n",
    "clusterer.fit(outputFeatures)\n",
    "metrics.adjusted_rand_score(outputClasses, clusterer.labels_)"
   ]
  },
  {
   "cell_type": "code",
   "execution_count": null,
   "id": "ffe966b9-d81e-4940-a3ac-40ed13a14456",
   "metadata": {},
   "outputs": [],
   "source": []
  }
 ],
 "metadata": {
  "kernelspec": {
   "display_name": "Python 3 (ipykernel)",
   "language": "python",
   "name": "python3"
  },
  "language_info": {
   "codemirror_mode": {
    "name": "ipython",
    "version": 3
   },
   "file_extension": ".py",
   "mimetype": "text/x-python",
   "name": "python",
   "nbconvert_exporter": "python",
   "pygments_lexer": "ipython3",
   "version": "3.12.7"
  }
 },
 "nbformat": 4,
 "nbformat_minor": 5
}
